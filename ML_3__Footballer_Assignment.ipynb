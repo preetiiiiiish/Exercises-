{
  "nbformat": 4,
  "nbformat_minor": 0,
  "metadata": {
    "colab": {
      "provenance": []
    },
    "kernelspec": {
      "name": "python3",
      "display_name": "Python 3"
    },
    "language_info": {
      "name": "python"
    }
  },
  "cells": [
    {
      "cell_type": "code",
      "execution_count": 2,
      "metadata": {
        "id": "RYpHo0v9Tb5o"
      },
      "outputs": [],
      "source": [
        "import pandas as pd\n",
        "import numpy as np\n",
        "import matplotlib.pyplot as plt\n",
        "%matplotlib inline\n",
        "import warnings\n",
        "warnings.filterwarnings (\"ignore\")\n",
        "import seaborn as sns"
      ]
    },
    {
      "cell_type": "code",
      "source": [
        "df=pd.read_csv(\"https://raw.githubusercontent.com/preetiiiiiish/ML_Datasets/main/Footballer.csv\")"
      ],
      "metadata": {
        "id": "QdJXoMFeE9x2"
      },
      "execution_count": 4,
      "outputs": []
    },
    {
      "cell_type": "code",
      "source": [
        "df.head(10)"
      ],
      "metadata": {
        "colab": {
          "base_uri": "https://localhost:8080/",
          "height": 603
        },
        "id": "Zc2uOw6DFlC8",
        "outputId": "53cc715a-9381-4405-9203-f4e088cb4f3e"
      },
      "execution_count": 5,
      "outputs": [
        {
          "output_type": "execute_result",
          "data": {
            "text/plain": [
              "   Unnamed: 0      ID               Name  Age  \\\n",
              "0           0  158023           L. Messi   31   \n",
              "1           1   20801  Cristiano Ronaldo   33   \n",
              "2           2  190871          Neymar Jr   26   \n",
              "3           3  193080             De Gea   27   \n",
              "4           4  192985       K. De Bruyne   27   \n",
              "5           5  183277          E. Hazard   27   \n",
              "6           6  177003          L. Modrić   32   \n",
              "7           7  176580          L. Suárez   31   \n",
              "8           8  155862       Sergio Ramos   32   \n",
              "9           9  200389           J. Oblak   25   \n",
              "\n",
              "                                            Photo Nationality  \\\n",
              "0  https://cdn.sofifa.org/players/4/19/158023.png   Argentina   \n",
              "1   https://cdn.sofifa.org/players/4/19/20801.png    Portugal   \n",
              "2  https://cdn.sofifa.org/players/4/19/190871.png      Brazil   \n",
              "3  https://cdn.sofifa.org/players/4/19/193080.png       Spain   \n",
              "4  https://cdn.sofifa.org/players/4/19/192985.png     Belgium   \n",
              "5  https://cdn.sofifa.org/players/4/19/183277.png     Belgium   \n",
              "6  https://cdn.sofifa.org/players/4/19/177003.png     Croatia   \n",
              "7  https://cdn.sofifa.org/players/4/19/176580.png     Uruguay   \n",
              "8  https://cdn.sofifa.org/players/4/19/155862.png       Spain   \n",
              "9  https://cdn.sofifa.org/players/4/19/200389.png    Slovenia   \n",
              "\n",
              "                                  Flag  Overall  Potential  \\\n",
              "0  https://cdn.sofifa.org/flags/52.png       94         94   \n",
              "1  https://cdn.sofifa.org/flags/38.png       94         94   \n",
              "2  https://cdn.sofifa.org/flags/54.png       92         93   \n",
              "3  https://cdn.sofifa.org/flags/45.png       91         93   \n",
              "4   https://cdn.sofifa.org/flags/7.png       91         92   \n",
              "5   https://cdn.sofifa.org/flags/7.png       91         91   \n",
              "6  https://cdn.sofifa.org/flags/10.png       91         91   \n",
              "7  https://cdn.sofifa.org/flags/60.png       91         91   \n",
              "8  https://cdn.sofifa.org/flags/45.png       91         91   \n",
              "9  https://cdn.sofifa.org/flags/44.png       90         93   \n",
              "\n",
              "                  Club  ... Composure Marking StandingTackle  SlidingTackle  \\\n",
              "0         FC Barcelona  ...      96.0    33.0           28.0           26.0   \n",
              "1             Juventus  ...      95.0    28.0           31.0           23.0   \n",
              "2  Paris Saint-Germain  ...      94.0    27.0           24.0           33.0   \n",
              "3    Manchester United  ...      68.0    15.0           21.0           13.0   \n",
              "4      Manchester City  ...      88.0    68.0           58.0           51.0   \n",
              "5              Chelsea  ...      91.0    34.0           27.0           22.0   \n",
              "6          Real Madrid  ...      84.0    60.0           76.0           73.0   \n",
              "7         FC Barcelona  ...      85.0    62.0           45.0           38.0   \n",
              "8          Real Madrid  ...      82.0    87.0           92.0           91.0   \n",
              "9      Atlético Madrid  ...      70.0    27.0           12.0           18.0   \n",
              "\n",
              "  GKDiving  GKHandling  GKKicking  GKPositioning GKReflexes Release Clause  \n",
              "0      6.0        11.0       15.0           14.0        8.0        €226.5M  \n",
              "1      7.0        11.0       15.0           14.0       11.0        €127.1M  \n",
              "2      9.0         9.0       15.0           15.0       11.0        €228.1M  \n",
              "3     90.0        85.0       87.0           88.0       94.0        €138.6M  \n",
              "4     15.0        13.0        5.0           10.0       13.0        €196.4M  \n",
              "5     11.0        12.0        6.0            8.0        8.0        €172.1M  \n",
              "6     13.0         9.0        7.0           14.0        9.0        €137.4M  \n",
              "7     27.0        25.0       31.0           33.0       37.0          €164M  \n",
              "8     11.0         8.0        9.0            7.0       11.0        €104.6M  \n",
              "9     86.0        92.0       78.0           88.0       89.0        €144.5M  \n",
              "\n",
              "[10 rows x 89 columns]"
            ],
            "text/html": [
              "\n",
              "  <div id=\"df-1f67fc3e-7790-4e6d-813d-c7629e69755e\" class=\"colab-df-container\">\n",
              "    <div>\n",
              "<style scoped>\n",
              "    .dataframe tbody tr th:only-of-type {\n",
              "        vertical-align: middle;\n",
              "    }\n",
              "\n",
              "    .dataframe tbody tr th {\n",
              "        vertical-align: top;\n",
              "    }\n",
              "\n",
              "    .dataframe thead th {\n",
              "        text-align: right;\n",
              "    }\n",
              "</style>\n",
              "<table border=\"1\" class=\"dataframe\">\n",
              "  <thead>\n",
              "    <tr style=\"text-align: right;\">\n",
              "      <th></th>\n",
              "      <th>Unnamed: 0</th>\n",
              "      <th>ID</th>\n",
              "      <th>Name</th>\n",
              "      <th>Age</th>\n",
              "      <th>Photo</th>\n",
              "      <th>Nationality</th>\n",
              "      <th>Flag</th>\n",
              "      <th>Overall</th>\n",
              "      <th>Potential</th>\n",
              "      <th>Club</th>\n",
              "      <th>...</th>\n",
              "      <th>Composure</th>\n",
              "      <th>Marking</th>\n",
              "      <th>StandingTackle</th>\n",
              "      <th>SlidingTackle</th>\n",
              "      <th>GKDiving</th>\n",
              "      <th>GKHandling</th>\n",
              "      <th>GKKicking</th>\n",
              "      <th>GKPositioning</th>\n",
              "      <th>GKReflexes</th>\n",
              "      <th>Release Clause</th>\n",
              "    </tr>\n",
              "  </thead>\n",
              "  <tbody>\n",
              "    <tr>\n",
              "      <th>0</th>\n",
              "      <td>0</td>\n",
              "      <td>158023</td>\n",
              "      <td>L. Messi</td>\n",
              "      <td>31</td>\n",
              "      <td>https://cdn.sofifa.org/players/4/19/158023.png</td>\n",
              "      <td>Argentina</td>\n",
              "      <td>https://cdn.sofifa.org/flags/52.png</td>\n",
              "      <td>94</td>\n",
              "      <td>94</td>\n",
              "      <td>FC Barcelona</td>\n",
              "      <td>...</td>\n",
              "      <td>96.0</td>\n",
              "      <td>33.0</td>\n",
              "      <td>28.0</td>\n",
              "      <td>26.0</td>\n",
              "      <td>6.0</td>\n",
              "      <td>11.0</td>\n",
              "      <td>15.0</td>\n",
              "      <td>14.0</td>\n",
              "      <td>8.0</td>\n",
              "      <td>€226.5M</td>\n",
              "    </tr>\n",
              "    <tr>\n",
              "      <th>1</th>\n",
              "      <td>1</td>\n",
              "      <td>20801</td>\n",
              "      <td>Cristiano Ronaldo</td>\n",
              "      <td>33</td>\n",
              "      <td>https://cdn.sofifa.org/players/4/19/20801.png</td>\n",
              "      <td>Portugal</td>\n",
              "      <td>https://cdn.sofifa.org/flags/38.png</td>\n",
              "      <td>94</td>\n",
              "      <td>94</td>\n",
              "      <td>Juventus</td>\n",
              "      <td>...</td>\n",
              "      <td>95.0</td>\n",
              "      <td>28.0</td>\n",
              "      <td>31.0</td>\n",
              "      <td>23.0</td>\n",
              "      <td>7.0</td>\n",
              "      <td>11.0</td>\n",
              "      <td>15.0</td>\n",
              "      <td>14.0</td>\n",
              "      <td>11.0</td>\n",
              "      <td>€127.1M</td>\n",
              "    </tr>\n",
              "    <tr>\n",
              "      <th>2</th>\n",
              "      <td>2</td>\n",
              "      <td>190871</td>\n",
              "      <td>Neymar Jr</td>\n",
              "      <td>26</td>\n",
              "      <td>https://cdn.sofifa.org/players/4/19/190871.png</td>\n",
              "      <td>Brazil</td>\n",
              "      <td>https://cdn.sofifa.org/flags/54.png</td>\n",
              "      <td>92</td>\n",
              "      <td>93</td>\n",
              "      <td>Paris Saint-Germain</td>\n",
              "      <td>...</td>\n",
              "      <td>94.0</td>\n",
              "      <td>27.0</td>\n",
              "      <td>24.0</td>\n",
              "      <td>33.0</td>\n",
              "      <td>9.0</td>\n",
              "      <td>9.0</td>\n",
              "      <td>15.0</td>\n",
              "      <td>15.0</td>\n",
              "      <td>11.0</td>\n",
              "      <td>€228.1M</td>\n",
              "    </tr>\n",
              "    <tr>\n",
              "      <th>3</th>\n",
              "      <td>3</td>\n",
              "      <td>193080</td>\n",
              "      <td>De Gea</td>\n",
              "      <td>27</td>\n",
              "      <td>https://cdn.sofifa.org/players/4/19/193080.png</td>\n",
              "      <td>Spain</td>\n",
              "      <td>https://cdn.sofifa.org/flags/45.png</td>\n",
              "      <td>91</td>\n",
              "      <td>93</td>\n",
              "      <td>Manchester United</td>\n",
              "      <td>...</td>\n",
              "      <td>68.0</td>\n",
              "      <td>15.0</td>\n",
              "      <td>21.0</td>\n",
              "      <td>13.0</td>\n",
              "      <td>90.0</td>\n",
              "      <td>85.0</td>\n",
              "      <td>87.0</td>\n",
              "      <td>88.0</td>\n",
              "      <td>94.0</td>\n",
              "      <td>€138.6M</td>\n",
              "    </tr>\n",
              "    <tr>\n",
              "      <th>4</th>\n",
              "      <td>4</td>\n",
              "      <td>192985</td>\n",
              "      <td>K. De Bruyne</td>\n",
              "      <td>27</td>\n",
              "      <td>https://cdn.sofifa.org/players/4/19/192985.png</td>\n",
              "      <td>Belgium</td>\n",
              "      <td>https://cdn.sofifa.org/flags/7.png</td>\n",
              "      <td>91</td>\n",
              "      <td>92</td>\n",
              "      <td>Manchester City</td>\n",
              "      <td>...</td>\n",
              "      <td>88.0</td>\n",
              "      <td>68.0</td>\n",
              "      <td>58.0</td>\n",
              "      <td>51.0</td>\n",
              "      <td>15.0</td>\n",
              "      <td>13.0</td>\n",
              "      <td>5.0</td>\n",
              "      <td>10.0</td>\n",
              "      <td>13.0</td>\n",
              "      <td>€196.4M</td>\n",
              "    </tr>\n",
              "    <tr>\n",
              "      <th>5</th>\n",
              "      <td>5</td>\n",
              "      <td>183277</td>\n",
              "      <td>E. Hazard</td>\n",
              "      <td>27</td>\n",
              "      <td>https://cdn.sofifa.org/players/4/19/183277.png</td>\n",
              "      <td>Belgium</td>\n",
              "      <td>https://cdn.sofifa.org/flags/7.png</td>\n",
              "      <td>91</td>\n",
              "      <td>91</td>\n",
              "      <td>Chelsea</td>\n",
              "      <td>...</td>\n",
              "      <td>91.0</td>\n",
              "      <td>34.0</td>\n",
              "      <td>27.0</td>\n",
              "      <td>22.0</td>\n",
              "      <td>11.0</td>\n",
              "      <td>12.0</td>\n",
              "      <td>6.0</td>\n",
              "      <td>8.0</td>\n",
              "      <td>8.0</td>\n",
              "      <td>€172.1M</td>\n",
              "    </tr>\n",
              "    <tr>\n",
              "      <th>6</th>\n",
              "      <td>6</td>\n",
              "      <td>177003</td>\n",
              "      <td>L. Modrić</td>\n",
              "      <td>32</td>\n",
              "      <td>https://cdn.sofifa.org/players/4/19/177003.png</td>\n",
              "      <td>Croatia</td>\n",
              "      <td>https://cdn.sofifa.org/flags/10.png</td>\n",
              "      <td>91</td>\n",
              "      <td>91</td>\n",
              "      <td>Real Madrid</td>\n",
              "      <td>...</td>\n",
              "      <td>84.0</td>\n",
              "      <td>60.0</td>\n",
              "      <td>76.0</td>\n",
              "      <td>73.0</td>\n",
              "      <td>13.0</td>\n",
              "      <td>9.0</td>\n",
              "      <td>7.0</td>\n",
              "      <td>14.0</td>\n",
              "      <td>9.0</td>\n",
              "      <td>€137.4M</td>\n",
              "    </tr>\n",
              "    <tr>\n",
              "      <th>7</th>\n",
              "      <td>7</td>\n",
              "      <td>176580</td>\n",
              "      <td>L. Suárez</td>\n",
              "      <td>31</td>\n",
              "      <td>https://cdn.sofifa.org/players/4/19/176580.png</td>\n",
              "      <td>Uruguay</td>\n",
              "      <td>https://cdn.sofifa.org/flags/60.png</td>\n",
              "      <td>91</td>\n",
              "      <td>91</td>\n",
              "      <td>FC Barcelona</td>\n",
              "      <td>...</td>\n",
              "      <td>85.0</td>\n",
              "      <td>62.0</td>\n",
              "      <td>45.0</td>\n",
              "      <td>38.0</td>\n",
              "      <td>27.0</td>\n",
              "      <td>25.0</td>\n",
              "      <td>31.0</td>\n",
              "      <td>33.0</td>\n",
              "      <td>37.0</td>\n",
              "      <td>€164M</td>\n",
              "    </tr>\n",
              "    <tr>\n",
              "      <th>8</th>\n",
              "      <td>8</td>\n",
              "      <td>155862</td>\n",
              "      <td>Sergio Ramos</td>\n",
              "      <td>32</td>\n",
              "      <td>https://cdn.sofifa.org/players/4/19/155862.png</td>\n",
              "      <td>Spain</td>\n",
              "      <td>https://cdn.sofifa.org/flags/45.png</td>\n",
              "      <td>91</td>\n",
              "      <td>91</td>\n",
              "      <td>Real Madrid</td>\n",
              "      <td>...</td>\n",
              "      <td>82.0</td>\n",
              "      <td>87.0</td>\n",
              "      <td>92.0</td>\n",
              "      <td>91.0</td>\n",
              "      <td>11.0</td>\n",
              "      <td>8.0</td>\n",
              "      <td>9.0</td>\n",
              "      <td>7.0</td>\n",
              "      <td>11.0</td>\n",
              "      <td>€104.6M</td>\n",
              "    </tr>\n",
              "    <tr>\n",
              "      <th>9</th>\n",
              "      <td>9</td>\n",
              "      <td>200389</td>\n",
              "      <td>J. Oblak</td>\n",
              "      <td>25</td>\n",
              "      <td>https://cdn.sofifa.org/players/4/19/200389.png</td>\n",
              "      <td>Slovenia</td>\n",
              "      <td>https://cdn.sofifa.org/flags/44.png</td>\n",
              "      <td>90</td>\n",
              "      <td>93</td>\n",
              "      <td>Atlético Madrid</td>\n",
              "      <td>...</td>\n",
              "      <td>70.0</td>\n",
              "      <td>27.0</td>\n",
              "      <td>12.0</td>\n",
              "      <td>18.0</td>\n",
              "      <td>86.0</td>\n",
              "      <td>92.0</td>\n",
              "      <td>78.0</td>\n",
              "      <td>88.0</td>\n",
              "      <td>89.0</td>\n",
              "      <td>€144.5M</td>\n",
              "    </tr>\n",
              "  </tbody>\n",
              "</table>\n",
              "<p>10 rows × 89 columns</p>\n",
              "</div>\n",
              "    <div class=\"colab-df-buttons\">\n",
              "\n",
              "  <div class=\"colab-df-container\">\n",
              "    <button class=\"colab-df-convert\" onclick=\"convertToInteractive('df-1f67fc3e-7790-4e6d-813d-c7629e69755e')\"\n",
              "            title=\"Convert this dataframe to an interactive table.\"\n",
              "            style=\"display:none;\">\n",
              "\n",
              "  <svg xmlns=\"http://www.w3.org/2000/svg\" height=\"24px\" viewBox=\"0 -960 960 960\">\n",
              "    <path d=\"M120-120v-720h720v720H120Zm60-500h600v-160H180v160Zm220 220h160v-160H400v160Zm0 220h160v-160H400v160ZM180-400h160v-160H180v160Zm440 0h160v-160H620v160ZM180-180h160v-160H180v160Zm440 0h160v-160H620v160Z\"/>\n",
              "  </svg>\n",
              "    </button>\n",
              "\n",
              "  <style>\n",
              "    .colab-df-container {\n",
              "      display:flex;\n",
              "      gap: 12px;\n",
              "    }\n",
              "\n",
              "    .colab-df-convert {\n",
              "      background-color: #E8F0FE;\n",
              "      border: none;\n",
              "      border-radius: 50%;\n",
              "      cursor: pointer;\n",
              "      display: none;\n",
              "      fill: #1967D2;\n",
              "      height: 32px;\n",
              "      padding: 0 0 0 0;\n",
              "      width: 32px;\n",
              "    }\n",
              "\n",
              "    .colab-df-convert:hover {\n",
              "      background-color: #E2EBFA;\n",
              "      box-shadow: 0px 1px 2px rgba(60, 64, 67, 0.3), 0px 1px 3px 1px rgba(60, 64, 67, 0.15);\n",
              "      fill: #174EA6;\n",
              "    }\n",
              "\n",
              "    .colab-df-buttons div {\n",
              "      margin-bottom: 4px;\n",
              "    }\n",
              "\n",
              "    [theme=dark] .colab-df-convert {\n",
              "      background-color: #3B4455;\n",
              "      fill: #D2E3FC;\n",
              "    }\n",
              "\n",
              "    [theme=dark] .colab-df-convert:hover {\n",
              "      background-color: #434B5C;\n",
              "      box-shadow: 0px 1px 3px 1px rgba(0, 0, 0, 0.15);\n",
              "      filter: drop-shadow(0px 1px 2px rgba(0, 0, 0, 0.3));\n",
              "      fill: #FFFFFF;\n",
              "    }\n",
              "  </style>\n",
              "\n",
              "    <script>\n",
              "      const buttonEl =\n",
              "        document.querySelector('#df-1f67fc3e-7790-4e6d-813d-c7629e69755e button.colab-df-convert');\n",
              "      buttonEl.style.display =\n",
              "        google.colab.kernel.accessAllowed ? 'block' : 'none';\n",
              "\n",
              "      async function convertToInteractive(key) {\n",
              "        const element = document.querySelector('#df-1f67fc3e-7790-4e6d-813d-c7629e69755e');\n",
              "        const dataTable =\n",
              "          await google.colab.kernel.invokeFunction('convertToInteractive',\n",
              "                                                    [key], {});\n",
              "        if (!dataTable) return;\n",
              "\n",
              "        const docLinkHtml = 'Like what you see? Visit the ' +\n",
              "          '<a target=\"_blank\" href=https://colab.research.google.com/notebooks/data_table.ipynb>data table notebook</a>'\n",
              "          + ' to learn more about interactive tables.';\n",
              "        element.innerHTML = '';\n",
              "        dataTable['output_type'] = 'display_data';\n",
              "        await google.colab.output.renderOutput(dataTable, element);\n",
              "        const docLink = document.createElement('div');\n",
              "        docLink.innerHTML = docLinkHtml;\n",
              "        element.appendChild(docLink);\n",
              "      }\n",
              "    </script>\n",
              "  </div>\n",
              "\n",
              "\n",
              "<div id=\"df-9cef3f55-5f02-44b5-9060-cbabec565c94\">\n",
              "  <button class=\"colab-df-quickchart\" onclick=\"quickchart('df-9cef3f55-5f02-44b5-9060-cbabec565c94')\"\n",
              "            title=\"Suggest charts\"\n",
              "            style=\"display:none;\">\n",
              "\n",
              "<svg xmlns=\"http://www.w3.org/2000/svg\" height=\"24px\"viewBox=\"0 0 24 24\"\n",
              "     width=\"24px\">\n",
              "    <g>\n",
              "        <path d=\"M19 3H5c-1.1 0-2 .9-2 2v14c0 1.1.9 2 2 2h14c1.1 0 2-.9 2-2V5c0-1.1-.9-2-2-2zM9 17H7v-7h2v7zm4 0h-2V7h2v10zm4 0h-2v-4h2v4z\"/>\n",
              "    </g>\n",
              "</svg>\n",
              "  </button>\n",
              "\n",
              "<style>\n",
              "  .colab-df-quickchart {\n",
              "      --bg-color: #E8F0FE;\n",
              "      --fill-color: #1967D2;\n",
              "      --hover-bg-color: #E2EBFA;\n",
              "      --hover-fill-color: #174EA6;\n",
              "      --disabled-fill-color: #AAA;\n",
              "      --disabled-bg-color: #DDD;\n",
              "  }\n",
              "\n",
              "  [theme=dark] .colab-df-quickchart {\n",
              "      --bg-color: #3B4455;\n",
              "      --fill-color: #D2E3FC;\n",
              "      --hover-bg-color: #434B5C;\n",
              "      --hover-fill-color: #FFFFFF;\n",
              "      --disabled-bg-color: #3B4455;\n",
              "      --disabled-fill-color: #666;\n",
              "  }\n",
              "\n",
              "  .colab-df-quickchart {\n",
              "    background-color: var(--bg-color);\n",
              "    border: none;\n",
              "    border-radius: 50%;\n",
              "    cursor: pointer;\n",
              "    display: none;\n",
              "    fill: var(--fill-color);\n",
              "    height: 32px;\n",
              "    padding: 0;\n",
              "    width: 32px;\n",
              "  }\n",
              "\n",
              "  .colab-df-quickchart:hover {\n",
              "    background-color: var(--hover-bg-color);\n",
              "    box-shadow: 0 1px 2px rgba(60, 64, 67, 0.3), 0 1px 3px 1px rgba(60, 64, 67, 0.15);\n",
              "    fill: var(--button-hover-fill-color);\n",
              "  }\n",
              "\n",
              "  .colab-df-quickchart-complete:disabled,\n",
              "  .colab-df-quickchart-complete:disabled:hover {\n",
              "    background-color: var(--disabled-bg-color);\n",
              "    fill: var(--disabled-fill-color);\n",
              "    box-shadow: none;\n",
              "  }\n",
              "\n",
              "  .colab-df-spinner {\n",
              "    border: 2px solid var(--fill-color);\n",
              "    border-color: transparent;\n",
              "    border-bottom-color: var(--fill-color);\n",
              "    animation:\n",
              "      spin 1s steps(1) infinite;\n",
              "  }\n",
              "\n",
              "  @keyframes spin {\n",
              "    0% {\n",
              "      border-color: transparent;\n",
              "      border-bottom-color: var(--fill-color);\n",
              "      border-left-color: var(--fill-color);\n",
              "    }\n",
              "    20% {\n",
              "      border-color: transparent;\n",
              "      border-left-color: var(--fill-color);\n",
              "      border-top-color: var(--fill-color);\n",
              "    }\n",
              "    30% {\n",
              "      border-color: transparent;\n",
              "      border-left-color: var(--fill-color);\n",
              "      border-top-color: var(--fill-color);\n",
              "      border-right-color: var(--fill-color);\n",
              "    }\n",
              "    40% {\n",
              "      border-color: transparent;\n",
              "      border-right-color: var(--fill-color);\n",
              "      border-top-color: var(--fill-color);\n",
              "    }\n",
              "    60% {\n",
              "      border-color: transparent;\n",
              "      border-right-color: var(--fill-color);\n",
              "    }\n",
              "    80% {\n",
              "      border-color: transparent;\n",
              "      border-right-color: var(--fill-color);\n",
              "      border-bottom-color: var(--fill-color);\n",
              "    }\n",
              "    90% {\n",
              "      border-color: transparent;\n",
              "      border-bottom-color: var(--fill-color);\n",
              "    }\n",
              "  }\n",
              "</style>\n",
              "\n",
              "  <script>\n",
              "    async function quickchart(key) {\n",
              "      const quickchartButtonEl =\n",
              "        document.querySelector('#' + key + ' button');\n",
              "      quickchartButtonEl.disabled = true;  // To prevent multiple clicks.\n",
              "      quickchartButtonEl.classList.add('colab-df-spinner');\n",
              "      try {\n",
              "        const charts = await google.colab.kernel.invokeFunction(\n",
              "            'suggestCharts', [key], {});\n",
              "      } catch (error) {\n",
              "        console.error('Error during call to suggestCharts:', error);\n",
              "      }\n",
              "      quickchartButtonEl.classList.remove('colab-df-spinner');\n",
              "      quickchartButtonEl.classList.add('colab-df-quickchart-complete');\n",
              "    }\n",
              "    (() => {\n",
              "      let quickchartButtonEl =\n",
              "        document.querySelector('#df-9cef3f55-5f02-44b5-9060-cbabec565c94 button');\n",
              "      quickchartButtonEl.style.display =\n",
              "        google.colab.kernel.accessAllowed ? 'block' : 'none';\n",
              "    })();\n",
              "  </script>\n",
              "</div>\n",
              "\n",
              "    </div>\n",
              "  </div>\n"
            ]
          },
          "metadata": {},
          "execution_count": 5
        }
      ]
    },
    {
      "cell_type": "code",
      "source": [
        "df.shape"
      ],
      "metadata": {
        "colab": {
          "base_uri": "https://localhost:8080/"
        },
        "id": "tWt6ccDEJVsk",
        "outputId": "68a99a5f-a465-4f46-b282-ab32c4db715d"
      },
      "execution_count": 6,
      "outputs": [
        {
          "output_type": "execute_result",
          "data": {
            "text/plain": [
              "(18207, 89)"
            ]
          },
          "metadata": {},
          "execution_count": 6
        }
      ]
    },
    {
      "cell_type": "code",
      "source": [
        "df.dtypes"
      ],
      "metadata": {
        "colab": {
          "base_uri": "https://localhost:8080/"
        },
        "id": "O0oWRcFFKcxd",
        "outputId": "470f48bd-8245-4644-f66e-9a0bdbfccd17"
      },
      "execution_count": 7,
      "outputs": [
        {
          "output_type": "execute_result",
          "data": {
            "text/plain": [
              "Unnamed: 0          int64\n",
              "ID                  int64\n",
              "Name               object\n",
              "Age                 int64\n",
              "Photo              object\n",
              "                   ...   \n",
              "GKHandling        float64\n",
              "GKKicking         float64\n",
              "GKPositioning     float64\n",
              "GKReflexes        float64\n",
              "Release Clause     object\n",
              "Length: 89, dtype: object"
            ]
          },
          "metadata": {},
          "execution_count": 7
        }
      ]
    },
    {
      "cell_type": "code",
      "source": [
        "df.describe(include=\"all\")"
      ],
      "metadata": {
        "colab": {
          "base_uri": "https://localhost:8080/",
          "height": 478
        },
        "id": "4WC5BeDCKi7k",
        "outputId": "cb87a99d-be00-497a-8736-0be1874b7881"
      },
      "execution_count": 9,
      "outputs": [
        {
          "output_type": "execute_result",
          "data": {
            "text/plain": [
              "          Unnamed: 0             ID          Name           Age  \\\n",
              "count   18207.000000   18207.000000         18207  18207.000000   \n",
              "unique           NaN            NaN         17194           NaN   \n",
              "top              NaN            NaN  J. Rodríguez           NaN   \n",
              "freq             NaN            NaN            11           NaN   \n",
              "mean     9103.000000  214298.338606           NaN     25.122206   \n",
              "std      5256.052511   29965.244204           NaN      4.669943   \n",
              "min         0.000000      16.000000           NaN     16.000000   \n",
              "25%      4551.500000  200315.500000           NaN     21.000000   \n",
              "50%      9103.000000  221759.000000           NaN     25.000000   \n",
              "75%     13654.500000  236529.500000           NaN     28.000000   \n",
              "max     18206.000000  246620.000000           NaN     45.000000   \n",
              "\n",
              "                                                 Photo Nationality  \\\n",
              "count                                            18207       18207   \n",
              "unique                                           18207         164   \n",
              "top     https://cdn.sofifa.org/players/4/19/158023.png     England   \n",
              "freq                                                 1        1662   \n",
              "mean                                               NaN         NaN   \n",
              "std                                                NaN         NaN   \n",
              "min                                                NaN         NaN   \n",
              "25%                                                NaN         NaN   \n",
              "50%                                                NaN         NaN   \n",
              "75%                                                NaN         NaN   \n",
              "max                                                NaN         NaN   \n",
              "\n",
              "                                       Flag       Overall     Potential  \\\n",
              "count                                 18207  18207.000000  18207.000000   \n",
              "unique                                  164           NaN           NaN   \n",
              "top     https://cdn.sofifa.org/flags/14.png           NaN           NaN   \n",
              "freq                                   1662           NaN           NaN   \n",
              "mean                                    NaN     66.238699     71.307299   \n",
              "std                                     NaN      6.908930      6.136496   \n",
              "min                                     NaN     46.000000     48.000000   \n",
              "25%                                     NaN     62.000000     67.000000   \n",
              "50%                                     NaN     66.000000     71.000000   \n",
              "75%                                     NaN     71.000000     75.000000   \n",
              "max                                     NaN     94.000000     95.000000   \n",
              "\n",
              "                Club  ...     Composure       Marking StandingTackle  \\\n",
              "count          17966  ...  18159.000000  18159.000000   18159.000000   \n",
              "unique           651  ...           NaN           NaN            NaN   \n",
              "top     FC Barcelona  ...           NaN           NaN            NaN   \n",
              "freq              33  ...           NaN           NaN            NaN   \n",
              "mean             NaN  ...     58.648274     47.281623      47.697836   \n",
              "std              NaN  ...     11.436133     19.904397      21.664004   \n",
              "min              NaN  ...      3.000000      3.000000       2.000000   \n",
              "25%              NaN  ...     51.000000     30.000000      27.000000   \n",
              "50%              NaN  ...     60.000000     53.000000      55.000000   \n",
              "75%              NaN  ...     67.000000     64.000000      66.000000   \n",
              "max              NaN  ...     96.000000     94.000000      93.000000   \n",
              "\n",
              "        SlidingTackle      GKDiving    GKHandling     GKKicking  \\\n",
              "count    18159.000000  18159.000000  18159.000000  18159.000000   \n",
              "unique            NaN           NaN           NaN           NaN   \n",
              "top               NaN           NaN           NaN           NaN   \n",
              "freq              NaN           NaN           NaN           NaN   \n",
              "mean        45.661435     16.616223     16.391596     16.232061   \n",
              "std         21.289135     17.695349     16.906900     16.502864   \n",
              "min          3.000000      1.000000      1.000000      1.000000   \n",
              "25%         24.000000      8.000000      8.000000      8.000000   \n",
              "50%         52.000000     11.000000     11.000000     11.000000   \n",
              "75%         64.000000     14.000000     14.000000     14.000000   \n",
              "max         91.000000     90.000000     92.000000     91.000000   \n",
              "\n",
              "        GKPositioning    GKReflexes Release Clause  \n",
              "count    18159.000000  18159.000000          16643  \n",
              "unique            NaN           NaN           1244  \n",
              "top               NaN           NaN          €1.1M  \n",
              "freq              NaN           NaN            557  \n",
              "mean        16.388898     16.710887            NaN  \n",
              "std         17.034669     17.955119            NaN  \n",
              "min          1.000000      1.000000            NaN  \n",
              "25%          8.000000      8.000000            NaN  \n",
              "50%         11.000000     11.000000            NaN  \n",
              "75%         14.000000     14.000000            NaN  \n",
              "max         90.000000     94.000000            NaN  \n",
              "\n",
              "[11 rows x 89 columns]"
            ],
            "text/html": [
              "\n",
              "  <div id=\"df-2897ddeb-5775-4897-98ee-1682e8d4161b\" class=\"colab-df-container\">\n",
              "    <div>\n",
              "<style scoped>\n",
              "    .dataframe tbody tr th:only-of-type {\n",
              "        vertical-align: middle;\n",
              "    }\n",
              "\n",
              "    .dataframe tbody tr th {\n",
              "        vertical-align: top;\n",
              "    }\n",
              "\n",
              "    .dataframe thead th {\n",
              "        text-align: right;\n",
              "    }\n",
              "</style>\n",
              "<table border=\"1\" class=\"dataframe\">\n",
              "  <thead>\n",
              "    <tr style=\"text-align: right;\">\n",
              "      <th></th>\n",
              "      <th>Unnamed: 0</th>\n",
              "      <th>ID</th>\n",
              "      <th>Name</th>\n",
              "      <th>Age</th>\n",
              "      <th>Photo</th>\n",
              "      <th>Nationality</th>\n",
              "      <th>Flag</th>\n",
              "      <th>Overall</th>\n",
              "      <th>Potential</th>\n",
              "      <th>Club</th>\n",
              "      <th>...</th>\n",
              "      <th>Composure</th>\n",
              "      <th>Marking</th>\n",
              "      <th>StandingTackle</th>\n",
              "      <th>SlidingTackle</th>\n",
              "      <th>GKDiving</th>\n",
              "      <th>GKHandling</th>\n",
              "      <th>GKKicking</th>\n",
              "      <th>GKPositioning</th>\n",
              "      <th>GKReflexes</th>\n",
              "      <th>Release Clause</th>\n",
              "    </tr>\n",
              "  </thead>\n",
              "  <tbody>\n",
              "    <tr>\n",
              "      <th>count</th>\n",
              "      <td>18207.000000</td>\n",
              "      <td>18207.000000</td>\n",
              "      <td>18207</td>\n",
              "      <td>18207.000000</td>\n",
              "      <td>18207</td>\n",
              "      <td>18207</td>\n",
              "      <td>18207</td>\n",
              "      <td>18207.000000</td>\n",
              "      <td>18207.000000</td>\n",
              "      <td>17966</td>\n",
              "      <td>...</td>\n",
              "      <td>18159.000000</td>\n",
              "      <td>18159.000000</td>\n",
              "      <td>18159.000000</td>\n",
              "      <td>18159.000000</td>\n",
              "      <td>18159.000000</td>\n",
              "      <td>18159.000000</td>\n",
              "      <td>18159.000000</td>\n",
              "      <td>18159.000000</td>\n",
              "      <td>18159.000000</td>\n",
              "      <td>16643</td>\n",
              "    </tr>\n",
              "    <tr>\n",
              "      <th>unique</th>\n",
              "      <td>NaN</td>\n",
              "      <td>NaN</td>\n",
              "      <td>17194</td>\n",
              "      <td>NaN</td>\n",
              "      <td>18207</td>\n",
              "      <td>164</td>\n",
              "      <td>164</td>\n",
              "      <td>NaN</td>\n",
              "      <td>NaN</td>\n",
              "      <td>651</td>\n",
              "      <td>...</td>\n",
              "      <td>NaN</td>\n",
              "      <td>NaN</td>\n",
              "      <td>NaN</td>\n",
              "      <td>NaN</td>\n",
              "      <td>NaN</td>\n",
              "      <td>NaN</td>\n",
              "      <td>NaN</td>\n",
              "      <td>NaN</td>\n",
              "      <td>NaN</td>\n",
              "      <td>1244</td>\n",
              "    </tr>\n",
              "    <tr>\n",
              "      <th>top</th>\n",
              "      <td>NaN</td>\n",
              "      <td>NaN</td>\n",
              "      <td>J. Rodríguez</td>\n",
              "      <td>NaN</td>\n",
              "      <td>https://cdn.sofifa.org/players/4/19/158023.png</td>\n",
              "      <td>England</td>\n",
              "      <td>https://cdn.sofifa.org/flags/14.png</td>\n",
              "      <td>NaN</td>\n",
              "      <td>NaN</td>\n",
              "      <td>FC Barcelona</td>\n",
              "      <td>...</td>\n",
              "      <td>NaN</td>\n",
              "      <td>NaN</td>\n",
              "      <td>NaN</td>\n",
              "      <td>NaN</td>\n",
              "      <td>NaN</td>\n",
              "      <td>NaN</td>\n",
              "      <td>NaN</td>\n",
              "      <td>NaN</td>\n",
              "      <td>NaN</td>\n",
              "      <td>€1.1M</td>\n",
              "    </tr>\n",
              "    <tr>\n",
              "      <th>freq</th>\n",
              "      <td>NaN</td>\n",
              "      <td>NaN</td>\n",
              "      <td>11</td>\n",
              "      <td>NaN</td>\n",
              "      <td>1</td>\n",
              "      <td>1662</td>\n",
              "      <td>1662</td>\n",
              "      <td>NaN</td>\n",
              "      <td>NaN</td>\n",
              "      <td>33</td>\n",
              "      <td>...</td>\n",
              "      <td>NaN</td>\n",
              "      <td>NaN</td>\n",
              "      <td>NaN</td>\n",
              "      <td>NaN</td>\n",
              "      <td>NaN</td>\n",
              "      <td>NaN</td>\n",
              "      <td>NaN</td>\n",
              "      <td>NaN</td>\n",
              "      <td>NaN</td>\n",
              "      <td>557</td>\n",
              "    </tr>\n",
              "    <tr>\n",
              "      <th>mean</th>\n",
              "      <td>9103.000000</td>\n",
              "      <td>214298.338606</td>\n",
              "      <td>NaN</td>\n",
              "      <td>25.122206</td>\n",
              "      <td>NaN</td>\n",
              "      <td>NaN</td>\n",
              "      <td>NaN</td>\n",
              "      <td>66.238699</td>\n",
              "      <td>71.307299</td>\n",
              "      <td>NaN</td>\n",
              "      <td>...</td>\n",
              "      <td>58.648274</td>\n",
              "      <td>47.281623</td>\n",
              "      <td>47.697836</td>\n",
              "      <td>45.661435</td>\n",
              "      <td>16.616223</td>\n",
              "      <td>16.391596</td>\n",
              "      <td>16.232061</td>\n",
              "      <td>16.388898</td>\n",
              "      <td>16.710887</td>\n",
              "      <td>NaN</td>\n",
              "    </tr>\n",
              "    <tr>\n",
              "      <th>std</th>\n",
              "      <td>5256.052511</td>\n",
              "      <td>29965.244204</td>\n",
              "      <td>NaN</td>\n",
              "      <td>4.669943</td>\n",
              "      <td>NaN</td>\n",
              "      <td>NaN</td>\n",
              "      <td>NaN</td>\n",
              "      <td>6.908930</td>\n",
              "      <td>6.136496</td>\n",
              "      <td>NaN</td>\n",
              "      <td>...</td>\n",
              "      <td>11.436133</td>\n",
              "      <td>19.904397</td>\n",
              "      <td>21.664004</td>\n",
              "      <td>21.289135</td>\n",
              "      <td>17.695349</td>\n",
              "      <td>16.906900</td>\n",
              "      <td>16.502864</td>\n",
              "      <td>17.034669</td>\n",
              "      <td>17.955119</td>\n",
              "      <td>NaN</td>\n",
              "    </tr>\n",
              "    <tr>\n",
              "      <th>min</th>\n",
              "      <td>0.000000</td>\n",
              "      <td>16.000000</td>\n",
              "      <td>NaN</td>\n",
              "      <td>16.000000</td>\n",
              "      <td>NaN</td>\n",
              "      <td>NaN</td>\n",
              "      <td>NaN</td>\n",
              "      <td>46.000000</td>\n",
              "      <td>48.000000</td>\n",
              "      <td>NaN</td>\n",
              "      <td>...</td>\n",
              "      <td>3.000000</td>\n",
              "      <td>3.000000</td>\n",
              "      <td>2.000000</td>\n",
              "      <td>3.000000</td>\n",
              "      <td>1.000000</td>\n",
              "      <td>1.000000</td>\n",
              "      <td>1.000000</td>\n",
              "      <td>1.000000</td>\n",
              "      <td>1.000000</td>\n",
              "      <td>NaN</td>\n",
              "    </tr>\n",
              "    <tr>\n",
              "      <th>25%</th>\n",
              "      <td>4551.500000</td>\n",
              "      <td>200315.500000</td>\n",
              "      <td>NaN</td>\n",
              "      <td>21.000000</td>\n",
              "      <td>NaN</td>\n",
              "      <td>NaN</td>\n",
              "      <td>NaN</td>\n",
              "      <td>62.000000</td>\n",
              "      <td>67.000000</td>\n",
              "      <td>NaN</td>\n",
              "      <td>...</td>\n",
              "      <td>51.000000</td>\n",
              "      <td>30.000000</td>\n",
              "      <td>27.000000</td>\n",
              "      <td>24.000000</td>\n",
              "      <td>8.000000</td>\n",
              "      <td>8.000000</td>\n",
              "      <td>8.000000</td>\n",
              "      <td>8.000000</td>\n",
              "      <td>8.000000</td>\n",
              "      <td>NaN</td>\n",
              "    </tr>\n",
              "    <tr>\n",
              "      <th>50%</th>\n",
              "      <td>9103.000000</td>\n",
              "      <td>221759.000000</td>\n",
              "      <td>NaN</td>\n",
              "      <td>25.000000</td>\n",
              "      <td>NaN</td>\n",
              "      <td>NaN</td>\n",
              "      <td>NaN</td>\n",
              "      <td>66.000000</td>\n",
              "      <td>71.000000</td>\n",
              "      <td>NaN</td>\n",
              "      <td>...</td>\n",
              "      <td>60.000000</td>\n",
              "      <td>53.000000</td>\n",
              "      <td>55.000000</td>\n",
              "      <td>52.000000</td>\n",
              "      <td>11.000000</td>\n",
              "      <td>11.000000</td>\n",
              "      <td>11.000000</td>\n",
              "      <td>11.000000</td>\n",
              "      <td>11.000000</td>\n",
              "      <td>NaN</td>\n",
              "    </tr>\n",
              "    <tr>\n",
              "      <th>75%</th>\n",
              "      <td>13654.500000</td>\n",
              "      <td>236529.500000</td>\n",
              "      <td>NaN</td>\n",
              "      <td>28.000000</td>\n",
              "      <td>NaN</td>\n",
              "      <td>NaN</td>\n",
              "      <td>NaN</td>\n",
              "      <td>71.000000</td>\n",
              "      <td>75.000000</td>\n",
              "      <td>NaN</td>\n",
              "      <td>...</td>\n",
              "      <td>67.000000</td>\n",
              "      <td>64.000000</td>\n",
              "      <td>66.000000</td>\n",
              "      <td>64.000000</td>\n",
              "      <td>14.000000</td>\n",
              "      <td>14.000000</td>\n",
              "      <td>14.000000</td>\n",
              "      <td>14.000000</td>\n",
              "      <td>14.000000</td>\n",
              "      <td>NaN</td>\n",
              "    </tr>\n",
              "    <tr>\n",
              "      <th>max</th>\n",
              "      <td>18206.000000</td>\n",
              "      <td>246620.000000</td>\n",
              "      <td>NaN</td>\n",
              "      <td>45.000000</td>\n",
              "      <td>NaN</td>\n",
              "      <td>NaN</td>\n",
              "      <td>NaN</td>\n",
              "      <td>94.000000</td>\n",
              "      <td>95.000000</td>\n",
              "      <td>NaN</td>\n",
              "      <td>...</td>\n",
              "      <td>96.000000</td>\n",
              "      <td>94.000000</td>\n",
              "      <td>93.000000</td>\n",
              "      <td>91.000000</td>\n",
              "      <td>90.000000</td>\n",
              "      <td>92.000000</td>\n",
              "      <td>91.000000</td>\n",
              "      <td>90.000000</td>\n",
              "      <td>94.000000</td>\n",
              "      <td>NaN</td>\n",
              "    </tr>\n",
              "  </tbody>\n",
              "</table>\n",
              "<p>11 rows × 89 columns</p>\n",
              "</div>\n",
              "    <div class=\"colab-df-buttons\">\n",
              "\n",
              "  <div class=\"colab-df-container\">\n",
              "    <button class=\"colab-df-convert\" onclick=\"convertToInteractive('df-2897ddeb-5775-4897-98ee-1682e8d4161b')\"\n",
              "            title=\"Convert this dataframe to an interactive table.\"\n",
              "            style=\"display:none;\">\n",
              "\n",
              "  <svg xmlns=\"http://www.w3.org/2000/svg\" height=\"24px\" viewBox=\"0 -960 960 960\">\n",
              "    <path d=\"M120-120v-720h720v720H120Zm60-500h600v-160H180v160Zm220 220h160v-160H400v160Zm0 220h160v-160H400v160ZM180-400h160v-160H180v160Zm440 0h160v-160H620v160ZM180-180h160v-160H180v160Zm440 0h160v-160H620v160Z\"/>\n",
              "  </svg>\n",
              "    </button>\n",
              "\n",
              "  <style>\n",
              "    .colab-df-container {\n",
              "      display:flex;\n",
              "      gap: 12px;\n",
              "    }\n",
              "\n",
              "    .colab-df-convert {\n",
              "      background-color: #E8F0FE;\n",
              "      border: none;\n",
              "      border-radius: 50%;\n",
              "      cursor: pointer;\n",
              "      display: none;\n",
              "      fill: #1967D2;\n",
              "      height: 32px;\n",
              "      padding: 0 0 0 0;\n",
              "      width: 32px;\n",
              "    }\n",
              "\n",
              "    .colab-df-convert:hover {\n",
              "      background-color: #E2EBFA;\n",
              "      box-shadow: 0px 1px 2px rgba(60, 64, 67, 0.3), 0px 1px 3px 1px rgba(60, 64, 67, 0.15);\n",
              "      fill: #174EA6;\n",
              "    }\n",
              "\n",
              "    .colab-df-buttons div {\n",
              "      margin-bottom: 4px;\n",
              "    }\n",
              "\n",
              "    [theme=dark] .colab-df-convert {\n",
              "      background-color: #3B4455;\n",
              "      fill: #D2E3FC;\n",
              "    }\n",
              "\n",
              "    [theme=dark] .colab-df-convert:hover {\n",
              "      background-color: #434B5C;\n",
              "      box-shadow: 0px 1px 3px 1px rgba(0, 0, 0, 0.15);\n",
              "      filter: drop-shadow(0px 1px 2px rgba(0, 0, 0, 0.3));\n",
              "      fill: #FFFFFF;\n",
              "    }\n",
              "  </style>\n",
              "\n",
              "    <script>\n",
              "      const buttonEl =\n",
              "        document.querySelector('#df-2897ddeb-5775-4897-98ee-1682e8d4161b button.colab-df-convert');\n",
              "      buttonEl.style.display =\n",
              "        google.colab.kernel.accessAllowed ? 'block' : 'none';\n",
              "\n",
              "      async function convertToInteractive(key) {\n",
              "        const element = document.querySelector('#df-2897ddeb-5775-4897-98ee-1682e8d4161b');\n",
              "        const dataTable =\n",
              "          await google.colab.kernel.invokeFunction('convertToInteractive',\n",
              "                                                    [key], {});\n",
              "        if (!dataTable) return;\n",
              "\n",
              "        const docLinkHtml = 'Like what you see? Visit the ' +\n",
              "          '<a target=\"_blank\" href=https://colab.research.google.com/notebooks/data_table.ipynb>data table notebook</a>'\n",
              "          + ' to learn more about interactive tables.';\n",
              "        element.innerHTML = '';\n",
              "        dataTable['output_type'] = 'display_data';\n",
              "        await google.colab.output.renderOutput(dataTable, element);\n",
              "        const docLink = document.createElement('div');\n",
              "        docLink.innerHTML = docLinkHtml;\n",
              "        element.appendChild(docLink);\n",
              "      }\n",
              "    </script>\n",
              "  </div>\n",
              "\n",
              "\n",
              "<div id=\"df-a0d3d7f1-d971-4216-9a99-345189108c0a\">\n",
              "  <button class=\"colab-df-quickchart\" onclick=\"quickchart('df-a0d3d7f1-d971-4216-9a99-345189108c0a')\"\n",
              "            title=\"Suggest charts\"\n",
              "            style=\"display:none;\">\n",
              "\n",
              "<svg xmlns=\"http://www.w3.org/2000/svg\" height=\"24px\"viewBox=\"0 0 24 24\"\n",
              "     width=\"24px\">\n",
              "    <g>\n",
              "        <path d=\"M19 3H5c-1.1 0-2 .9-2 2v14c0 1.1.9 2 2 2h14c1.1 0 2-.9 2-2V5c0-1.1-.9-2-2-2zM9 17H7v-7h2v7zm4 0h-2V7h2v10zm4 0h-2v-4h2v4z\"/>\n",
              "    </g>\n",
              "</svg>\n",
              "  </button>\n",
              "\n",
              "<style>\n",
              "  .colab-df-quickchart {\n",
              "      --bg-color: #E8F0FE;\n",
              "      --fill-color: #1967D2;\n",
              "      --hover-bg-color: #E2EBFA;\n",
              "      --hover-fill-color: #174EA6;\n",
              "      --disabled-fill-color: #AAA;\n",
              "      --disabled-bg-color: #DDD;\n",
              "  }\n",
              "\n",
              "  [theme=dark] .colab-df-quickchart {\n",
              "      --bg-color: #3B4455;\n",
              "      --fill-color: #D2E3FC;\n",
              "      --hover-bg-color: #434B5C;\n",
              "      --hover-fill-color: #FFFFFF;\n",
              "      --disabled-bg-color: #3B4455;\n",
              "      --disabled-fill-color: #666;\n",
              "  }\n",
              "\n",
              "  .colab-df-quickchart {\n",
              "    background-color: var(--bg-color);\n",
              "    border: none;\n",
              "    border-radius: 50%;\n",
              "    cursor: pointer;\n",
              "    display: none;\n",
              "    fill: var(--fill-color);\n",
              "    height: 32px;\n",
              "    padding: 0;\n",
              "    width: 32px;\n",
              "  }\n",
              "\n",
              "  .colab-df-quickchart:hover {\n",
              "    background-color: var(--hover-bg-color);\n",
              "    box-shadow: 0 1px 2px rgba(60, 64, 67, 0.3), 0 1px 3px 1px rgba(60, 64, 67, 0.15);\n",
              "    fill: var(--button-hover-fill-color);\n",
              "  }\n",
              "\n",
              "  .colab-df-quickchart-complete:disabled,\n",
              "  .colab-df-quickchart-complete:disabled:hover {\n",
              "    background-color: var(--disabled-bg-color);\n",
              "    fill: var(--disabled-fill-color);\n",
              "    box-shadow: none;\n",
              "  }\n",
              "\n",
              "  .colab-df-spinner {\n",
              "    border: 2px solid var(--fill-color);\n",
              "    border-color: transparent;\n",
              "    border-bottom-color: var(--fill-color);\n",
              "    animation:\n",
              "      spin 1s steps(1) infinite;\n",
              "  }\n",
              "\n",
              "  @keyframes spin {\n",
              "    0% {\n",
              "      border-color: transparent;\n",
              "      border-bottom-color: var(--fill-color);\n",
              "      border-left-color: var(--fill-color);\n",
              "    }\n",
              "    20% {\n",
              "      border-color: transparent;\n",
              "      border-left-color: var(--fill-color);\n",
              "      border-top-color: var(--fill-color);\n",
              "    }\n",
              "    30% {\n",
              "      border-color: transparent;\n",
              "      border-left-color: var(--fill-color);\n",
              "      border-top-color: var(--fill-color);\n",
              "      border-right-color: var(--fill-color);\n",
              "    }\n",
              "    40% {\n",
              "      border-color: transparent;\n",
              "      border-right-color: var(--fill-color);\n",
              "      border-top-color: var(--fill-color);\n",
              "    }\n",
              "    60% {\n",
              "      border-color: transparent;\n",
              "      border-right-color: var(--fill-color);\n",
              "    }\n",
              "    80% {\n",
              "      border-color: transparent;\n",
              "      border-right-color: var(--fill-color);\n",
              "      border-bottom-color: var(--fill-color);\n",
              "    }\n",
              "    90% {\n",
              "      border-color: transparent;\n",
              "      border-bottom-color: var(--fill-color);\n",
              "    }\n",
              "  }\n",
              "</style>\n",
              "\n",
              "  <script>\n",
              "    async function quickchart(key) {\n",
              "      const quickchartButtonEl =\n",
              "        document.querySelector('#' + key + ' button');\n",
              "      quickchartButtonEl.disabled = true;  // To prevent multiple clicks.\n",
              "      quickchartButtonEl.classList.add('colab-df-spinner');\n",
              "      try {\n",
              "        const charts = await google.colab.kernel.invokeFunction(\n",
              "            'suggestCharts', [key], {});\n",
              "      } catch (error) {\n",
              "        console.error('Error during call to suggestCharts:', error);\n",
              "      }\n",
              "      quickchartButtonEl.classList.remove('colab-df-spinner');\n",
              "      quickchartButtonEl.classList.add('colab-df-quickchart-complete');\n",
              "    }\n",
              "    (() => {\n",
              "      let quickchartButtonEl =\n",
              "        document.querySelector('#df-a0d3d7f1-d971-4216-9a99-345189108c0a button');\n",
              "      quickchartButtonEl.style.display =\n",
              "        google.colab.kernel.accessAllowed ? 'block' : 'none';\n",
              "    })();\n",
              "  </script>\n",
              "</div>\n",
              "\n",
              "    </div>\n",
              "  </div>\n"
            ]
          },
          "metadata": {},
          "execution_count": 9
        }
      ]
    },
    {
      "cell_type": "code",
      "source": [
        "df.isnull().sum()"
      ],
      "metadata": {
        "colab": {
          "base_uri": "https://localhost:8080/"
        },
        "id": "bx-6WvP2Ko4k",
        "outputId": "437bea9c-6c9b-4b00-eb88-29120bb2eda8"
      },
      "execution_count": 10,
      "outputs": [
        {
          "output_type": "execute_result",
          "data": {
            "text/plain": [
              "Unnamed: 0           0\n",
              "ID                   0\n",
              "Name                 0\n",
              "Age                  0\n",
              "Photo                0\n",
              "                  ... \n",
              "GKHandling          48\n",
              "GKKicking           48\n",
              "GKPositioning       48\n",
              "GKReflexes          48\n",
              "Release Clause    1564\n",
              "Length: 89, dtype: int64"
            ]
          },
          "metadata": {},
          "execution_count": 10
        }
      ]
    },
    {
      "cell_type": "code",
      "source": [
        "print(df.columns)"
      ],
      "metadata": {
        "colab": {
          "base_uri": "https://localhost:8080/"
        },
        "id": "S1QqIvGgLR9m",
        "outputId": "ce1795b9-880c-4b7b-cf2b-c6de8d9b3d65"
      },
      "execution_count": 11,
      "outputs": [
        {
          "output_type": "stream",
          "name": "stdout",
          "text": [
            "Index(['Unnamed: 0', 'ID', 'Name', 'Age', 'Photo', 'Nationality', 'Flag',\n",
            "       'Overall', 'Potential', 'Club', 'Club Logo', 'Value', 'Wage', 'Special',\n",
            "       'Preferred Foot', 'International Reputation', 'Weak Foot',\n",
            "       'Skill Moves', 'Work Rate', 'Body Type', 'Real Face', 'Position',\n",
            "       'Jersey Number', 'Joined', 'Loaned From', 'Contract Valid Until',\n",
            "       'Height', 'Weight', 'LS', 'ST', 'RS', 'LW', 'LF', 'CF', 'RF', 'RW',\n",
            "       'LAM', 'CAM', 'RAM', 'LM', 'LCM', 'CM', 'RCM', 'RM', 'LWB', 'LDM',\n",
            "       'CDM', 'RDM', 'RWB', 'LB', 'LCB', 'CB', 'RCB', 'RB', 'Crossing',\n",
            "       'Finishing', 'HeadingAccuracy', 'ShortPassing', 'Volleys', 'Dribbling',\n",
            "       'Curve', 'FKAccuracy', 'LongPassing', 'BallControl', 'Acceleration',\n",
            "       'SprintSpeed', 'Agility', 'Reactions', 'Balance', 'ShotPower',\n",
            "       'Jumping', 'Stamina', 'Strength', 'LongShots', 'Aggression',\n",
            "       'Interceptions', 'Positioning', 'Vision', 'Penalties', 'Composure',\n",
            "       'Marking', 'StandingTackle', 'SlidingTackle', 'GKDiving', 'GKHandling',\n",
            "       'GKKicking', 'GKPositioning', 'GKReflexes', 'Release Clause'],\n",
            "      dtype='object')\n"
          ]
        }
      ]
    },
    {
      "cell_type": "code",
      "source": [
        "df[\"Preferred Foot\"].value_counts()"
      ],
      "metadata": {
        "colab": {
          "base_uri": "https://localhost:8080/"
        },
        "id": "3uu7984NLb8m",
        "outputId": "4cc8a453-7288-49b0-c778-15a82368f14c"
      },
      "execution_count": 18,
      "outputs": [
        {
          "output_type": "execute_result",
          "data": {
            "text/plain": [
              "Right    13948\n",
              "Left      4211\n",
              "Name: Preferred Foot, dtype: int64"
            ]
          },
          "metadata": {},
          "execution_count": 18
        }
      ]
    },
    {
      "cell_type": "markdown",
      "source": [
        "**What is the distribution of preferred foot?**"
      ],
      "metadata": {
        "id": "rQ15r_kjPzTr"
      }
    },
    {
      "cell_type": "code",
      "source": [
        "sns.countplot(x=\"Preferred Foot\",data=df)\n",
        "xlabel=(\"Preferred Foot\")\n",
        "ylabel=(\"Count\")\n",
        "plt.show()\n"
      ],
      "metadata": {
        "colab": {
          "base_uri": "https://localhost:8080/",
          "height": 449
        },
        "id": "uIEPFigqMvbc",
        "outputId": "b5b63aeb-3e1e-4c28-b3e1-f46f7e646f20"
      },
      "execution_count": 20,
      "outputs": [
        {
          "output_type": "display_data",
          "data": {
            "text/plain": [
              "<Figure size 640x480 with 1 Axes>"
            ],
            "image/png": "[encoded data removed]"
          },
          "metadata": {}
        }
      ]
    },
    {
      "cell_type": "markdown",
      "source": [
        "**How can we visualize the age distribution of players?**"
      ],
      "metadata": {
        "id": "vV3qLV_kQAYP"
      }
    },
    {
      "cell_type": "code",
      "source": [
        "df[\"Age\"].value_counts()"
      ],
      "metadata": {
        "colab": {
          "base_uri": "https://localhost:8080/"
        },
        "id": "nlhHd507Px1V",
        "outputId": "b9074b36-b202-49b7-89ca-e73ddf9bcd71"
      },
      "execution_count": 21,
      "outputs": [
        {
          "output_type": "execute_result",
          "data": {
            "text/plain": [
              "21    1423\n",
              "26    1387\n",
              "24    1358\n",
              "22    1340\n",
              "23    1332\n",
              "25    1319\n",
              "20    1240\n",
              "27    1162\n",
              "28    1101\n",
              "19    1024\n",
              "29     959\n",
              "30     917\n",
              "18     732\n",
              "31     707\n",
              "32     574\n",
              "33     408\n",
              "34     404\n",
              "17     289\n",
              "35     196\n",
              "36     127\n",
              "37      82\n",
              "16      42\n",
              "38      37\n",
              "39      25\n",
              "40      13\n",
              "41       5\n",
              "44       2\n",
              "45       1\n",
              "42       1\n",
              "Name: Age, dtype: int64"
            ]
          },
          "metadata": {},
          "execution_count": 21
        }
      ]
    },
    {
      "cell_type": "code",
      "source": [
        "plt.hist(df[\"Age\"],bins=25,edgecolor=\"yellow\")\n",
        "plt.xalabel=(\"Age\")\n",
        "plt.ylabel=(\"Counts\")\n",
        "plt.title(\"Age Distribution of players\")\n",
        "plt.show()"
      ],
      "metadata": {
        "colab": {
          "base_uri": "https://localhost:8080/",
          "height": 452
        },
        "id": "N5GcnbNqQTn2",
        "outputId": "78f002ea-868a-41cb-a41c-3665bda4da81"
      },
      "execution_count": 24,
      "outputs": [
        {
          "output_type": "display_data",
          "data": {
            "text/plain": [
              "<Figure size 640x480 with 1 Axes>"
            ],
            "image/png": "[encoded data removed]"
          },
          "metadata": {}
        }
      ]
    },
    {
      "cell_type": "code",
      "source": [
        "sns.histplot(df[\"Age\"],bins=25,edgecolor=\"blue\",color=\"violet\",kde=\"True\")\n",
        "plt.xalabel=(\"Age\")\n",
        "plt.ylabel=(\"Counts\")\n",
        "plt.title(\"Age Distribution of players\")\n",
        "plt.show()"
      ],
      "metadata": {
        "colab": {
          "base_uri": "https://localhost:8080/",
          "height": 472
        },
        "id": "8hr4_T2VRnR8",
        "outputId": "d965a94c-b5ac-4e18-eb94-0fa13a12f2b2"
      },
      "execution_count": 30,
      "outputs": [
        {
          "output_type": "display_data",
          "data": {
            "text/plain": [
              "<Figure size 640x480 with 1 Axes>"
            ],
            "image/png": "[encoded data removed]"
          },
          "metadata": {}
        }
      ]
    },
    {
      "cell_type": "markdown",
      "source": [
        "**What is the international reputation of left and right foot?**"
      ],
      "metadata": {
        "id": "06fJVvXPSqhv"
      }
    },
    {
      "cell_type": "code",
      "source": [
        "df[\"LF\"].value_counts()"
      ],
      "metadata": {
        "colab": {
          "base_uri": "https://localhost:8080/"
        },
        "id": "B9g2EQGsSB7p",
        "outputId": "5f327ead-14f8-48ba-b3ba-bffdeb44698b"
      },
      "execution_count": 31,
      "outputs": [
        {
          "output_type": "execute_result",
          "data": {
            "text/plain": [
              "61+2    713\n",
              "63+2    694\n",
              "62+2    686\n",
              "60+2    677\n",
              "64+2    676\n",
              "       ... \n",
              "87+5      1\n",
              "88+3      1\n",
              "89+3      1\n",
              "53+3      1\n",
              "93+2      1\n",
              "Name: LF, Length: 102, dtype: int64"
            ]
          },
          "metadata": {},
          "execution_count": 31
        }
      ]
    },
    {
      "cell_type": "code",
      "source": [
        "df[\"RF\"].value_counts()"
      ],
      "metadata": {
        "colab": {
          "base_uri": "https://localhost:8080/"
        },
        "id": "gCvKqhc8TB_b",
        "outputId": "a5daa385-61c1-4935-cb82-3ee437a1e029"
      },
      "execution_count": 32,
      "outputs": [
        {
          "output_type": "execute_result",
          "data": {
            "text/plain": [
              "61+2    713\n",
              "63+2    694\n",
              "62+2    686\n",
              "60+2    677\n",
              "64+2    676\n",
              "       ... \n",
              "87+5      1\n",
              "88+3      1\n",
              "89+3      1\n",
              "53+3      1\n",
              "93+2      1\n",
              "Name: RF, Length: 102, dtype: int64"
            ]
          },
          "metadata": {},
          "execution_count": 32
        }
      ]
    },
    {
      "cell_type": "code",
      "source": [
        "df[\"International Reputation\"].value_counts()"
      ],
      "metadata": {
        "colab": {
          "base_uri": "https://localhost:8080/"
        },
        "id": "PP4gu6ByTGw5",
        "outputId": "9c8422ec-53c4-437a-bfc8-fc3c71633e03"
      },
      "execution_count": 33,
      "outputs": [
        {
          "output_type": "execute_result",
          "data": {
            "text/plain": [
              "1.0    16532\n",
              "2.0     1261\n",
              "3.0      309\n",
              "4.0       51\n",
              "5.0        6\n",
              "Name: International Reputation, dtype: int64"
            ]
          },
          "metadata": {},
          "execution_count": 33
        }
      ]
    },
    {
      "cell_type": "code",
      "source": [
        "plt.hist(df[\"International Reputation\"],bins=25,edgecolor=\"yellow\")\n",
        "plt.xalabel=(\"Age\")\n",
        "plt.ylabel=(\"Counts\")\n",
        "plt.title(\"Age Distribution of players\")\n",
        "plt.show()"
      ],
      "metadata": {
        "id": "88S4WrEWVm06"
      },
      "execution_count": null,
      "outputs": []
    },
    {
      "cell_type": "code",
      "source": [
        "print(df[[\"International Reputation\",\"Preferred Foot\"]].head())"
      ],
      "metadata": {
        "colab": {
          "base_uri": "https://localhost:8080/"
        },
        "id": "obYJsqNUVmxW",
        "outputId": "8f26629b-671d-4300-a97b-25ae57a9c827"
      },
      "execution_count": 34,
      "outputs": [
        {
          "output_type": "stream",
          "name": "stdout",
          "text": [
            "   International Reputation Preferred Foot\n",
            "0                       5.0           Left\n",
            "1                       5.0          Right\n",
            "2                       5.0          Right\n",
            "3                       4.0          Right\n",
            "4                       4.0          Right\n"
          ]
        }
      ]
    },
    {
      "cell_type": "code",
      "source": [
        "crosstab= pd.crosstab(df[\"International Reputation\"],df[\"Preferred Foot\"])\n",
        "print(crosstab)"
      ],
      "metadata": {
        "colab": {
          "base_uri": "https://localhost:8080/"
        },
        "id": "QNMFxiPIVmuC",
        "outputId": "481b9e83-f47d-40d7-d3b5-6b0aa753563b"
      },
      "execution_count": 37,
      "outputs": [
        {
          "output_type": "stream",
          "name": "stdout",
          "text": [
            "Preferred Foot            Left  Right\n",
            "International Reputation             \n",
            "1.0                       3839  12693\n",
            "2.0                        290    971\n",
            "3.0                         66    243\n",
            "4.0                         15     36\n",
            "5.0                          1      5\n"
          ]
        }
      ]
    },
    {
      "cell_type": "code",
      "source": [
        "sns.heatmap(crosstab, cmap=\"Blues\",annot=True,fmt=\"d\")\n",
        "plt.title(\"Relationship between International Reputation and Preferred foot\")\n",
        "plt.show()"
      ],
      "metadata": {
        "colab": {
          "base_uri": "https://localhost:8080/",
          "height": 472
        },
        "id": "oGNVnyRvXNtB",
        "outputId": "124d0390-9c77-4360-e525-f3b823e5f8fe"
      },
      "execution_count": 39,
      "outputs": [
        {
          "output_type": "display_data",
          "data": {
            "text/plain": [
              "<Figure size 640x480 with 2 Axes>"
            ],
            "image/png": "[encoded data removed]"
          },
          "metadata": {}
        }
      ]
    },
    {
      "cell_type": "markdown",
      "source": [
        "**What is the different work rate of the Players?**"
      ],
      "metadata": {
        "id": "OT-1T7w8VMWX"
      }
    },
    {
      "cell_type": "code",
      "source": [
        "unique_work_rate=df[\"Work Rate\"].unique()\n",
        "print(\"Different Work Rates Of the Players:\")\n",
        "print(unique_work_rate)"
      ],
      "metadata": {
        "colab": {
          "base_uri": "https://localhost:8080/"
        },
        "id": "8QQxzHSCZCL8",
        "outputId": "e4171c34-9f91-429e-aaa0-d97b709ef31c"
      },
      "execution_count": 47,
      "outputs": [
        {
          "output_type": "stream",
          "name": "stdout",
          "text": [
            "Different Work Rates Of the Players:\n",
            "['Medium/ Medium' 'High/ Low' 'High/ Medium' 'High/ High' 'Medium/ High'\n",
            " 'Medium/ Low' 'Low/ High' 'Low/ Medium' 'Low/ Low' nan]\n"
          ]
        }
      ]
    },
    {
      "cell_type": "code",
      "source": [
        "df[\"Work Rate\"].value_counts()"
      ],
      "metadata": {
        "colab": {
          "base_uri": "https://localhost:8080/"
        },
        "id": "WuXYq7KmaTNH",
        "outputId": "41ef2803-059a-4a8a-ca03-8c01a0486149"
      },
      "execution_count": 48,
      "outputs": [
        {
          "output_type": "execute_result",
          "data": {
            "text/plain": [
              "Medium/ Medium    9810\n",
              "High/ Medium      3173\n",
              "Medium/ High      1690\n",
              "High/ High        1015\n",
              "Medium/ Low        850\n",
              "High/ Low          699\n",
              "Low/ Medium        449\n",
              "Low/ High          439\n",
              "Low/ Low            34\n",
              "Name: Work Rate, dtype: int64"
            ]
          },
          "metadata": {},
          "execution_count": 48
        }
      ]
    },
    {
      "cell_type": "code",
      "source": [
        "plt.figure(figsize=(12,6))\n",
        "sns.countplot(x=\"Work Rate\",data=df)\n",
        "xlabel=(\"Category\")\n",
        "ylabel=(\"Count\")\n",
        "plt.xticks(rotation=30,ha=\"right\")\n",
        "plt.show()"
      ],
      "metadata": {
        "colab": {
          "base_uri": "https://localhost:8080/",
          "height": 600
        },
        "id": "gGtYnqeMcNqG",
        "outputId": "ed0afca1-76da-47dd-9119-e856dce0bb03"
      },
      "execution_count": 59,
      "outputs": [
        {
          "output_type": "display_data",
          "data": {
            "text/plain": [
              "<Figure size 1200x600 with 1 Axes>"
            ],
            "image/png": "[encoded data removed]"
          },
          "metadata": {}
        }
      ]
    },
    {
      "cell_type": "markdown",
      "source": [
        "**Top 10 countries with most number of players**"
      ],
      "metadata": {
        "id": "1Vo-7WdIdY-m"
      }
    },
    {
      "cell_type": "code",
      "source": [
        "top_countries=df[\"Nationality\"].value_counts().head(10)\n",
        "print(\"Top 10 Countries with the Most Number of Players:\")\n",
        "print(top_countries)"
      ],
      "metadata": {
        "colab": {
          "base_uri": "https://localhost:8080/"
        },
        "id": "Qr91Y5rDc56B",
        "outputId": "b1817cc1-6888-4464-8cd4-5804f0add301"
      },
      "execution_count": 76,
      "outputs": [
        {
          "output_type": "stream",
          "name": "stdout",
          "text": [
            "Top 10 Countries with the Most Number of Players:\n",
            "England        1662\n",
            "Germany        1198\n",
            "Spain          1072\n",
            "Argentina       937\n",
            "France          914\n",
            "Brazil          827\n",
            "Italy           702\n",
            "Colombia        618\n",
            "Japan           478\n",
            "Netherlands     453\n",
            "Name: Nationality, dtype: int64\n"
          ]
        }
      ]
    },
    {
      "cell_type": "code",
      "source": [
        "plt.figure(figsize=(12,6))\n",
        "sns.barplot(x=top_countries.index, y=top_countries.values, palette=\"viridis\")\n",
        "xlabel=(\"Country\")\n",
        "ylabel=(\"Count\")\n",
        "plt.xticks(rotation=30,ha=\"right\")\n",
        "plt.show()"
      ],
      "metadata": {
        "colab": {
          "base_uri": "https://localhost:8080/",
          "height": 563
        },
        "id": "TCGjUjy0doAw",
        "outputId": "7fff796d-ec6b-4072-ed0f-cb9ba90f3c0b"
      },
      "execution_count": 82,
      "outputs": [
        {
          "output_type": "display_data",
          "data": {
            "text/plain": [
              "<Figure size 1200x600 with 1 Axes>"
            ],
            "image/png": "[encoded data removed]"
          },
          "metadata": {}
        }
      ]
    },
    {
      "cell_type": "markdown",
      "source": [
        "**What is the work rate of players segregated by preferred foot?**"
      ],
      "metadata": {
        "id": "hCuxhpqIitT5"
      }
    },
    {
      "cell_type": "code",
      "source": [
        "print(df[[\"Work Rate\",\"Preferred Foot\"]].head())"
      ],
      "metadata": {
        "colab": {
          "base_uri": "https://localhost:8080/"
        },
        "id": "lj_GbLK7ht1e",
        "outputId": "94771fb9-c3ef-428f-c04a-74099be40e02"
      },
      "execution_count": 84,
      "outputs": [
        {
          "output_type": "stream",
          "name": "stdout",
          "text": [
            "        Work Rate Preferred Foot\n",
            "0  Medium/ Medium           Left\n",
            "1       High/ Low          Right\n",
            "2    High/ Medium          Right\n",
            "3  Medium/ Medium          Right\n",
            "4      High/ High          Right\n"
          ]
        }
      ]
    },
    {
      "cell_type": "code",
      "source": [
        "crosstab1= pd.crosstab(df[\"Work Rate\"],df[\"Preferred Foot\"])\n",
        "print(crosstab1)"
      ],
      "metadata": {
        "colab": {
          "base_uri": "https://localhost:8080/"
        },
        "id": "-z8XKg46jGjW",
        "outputId": "c7f8f9cd-8bba-4329-8e2d-d4e864aaff07"
      },
      "execution_count": 85,
      "outputs": [
        {
          "output_type": "stream",
          "name": "stdout",
          "text": [
            "Preferred Foot  Left  Right\n",
            "Work Rate                  \n",
            "High/ High       220    795\n",
            "High/ Low        199    500\n",
            "High/ Medium     949   2224\n",
            "Low/ High         79    360\n",
            "Low/ Low           4     30\n",
            "Low/ Medium       90    359\n",
            "Medium/ High     323   1367\n",
            "Medium/ Low      193    657\n",
            "Medium/ Medium  2154   7656\n"
          ]
        }
      ]
    },
    {
      "cell_type": "code",
      "source": [
        "sns.heatmap(crosstab1, cmap=\"Greens\",annot=True,fmt=\"d\")\n",
        "plt.title(\"Relationship between Work Rate and Preferred foot\")\n",
        "plt.show()"
      ],
      "metadata": {
        "colab": {
          "base_uri": "https://localhost:8080/",
          "height": 472
        },
        "id": "GMZAAmZ4jaCi",
        "outputId": "8d650dd3-e239-4194-e883-9ce99bfae27a"
      },
      "execution_count": 91,
      "outputs": [
        {
          "output_type": "display_data",
          "data": {
            "text/plain": [
              "<Figure size 640x480 with 2 Axes>"
            ],
            "image/png": "[encoded data removed]"
          },
          "metadata": {}
        }
      ]
    },
    {
      "cell_type": "markdown",
      "source": [
        "**Number of players at different positions?**"
      ],
      "metadata": {
        "id": "QWVrPzShkYuO"
      }
    },
    {
      "cell_type": "code",
      "source": [
        "position_counts=df[\"Position\"].value_counts()\n",
        "position_counts"
      ],
      "metadata": {
        "colab": {
          "base_uri": "https://localhost:8080/"
        },
        "id": "jU2OAj_Mj2TB",
        "outputId": "e3cab3e5-411f-44bd-afdf-6c2830052689"
      },
      "execution_count": 100,
      "outputs": [
        {
          "output_type": "execute_result",
          "data": {
            "text/plain": [
              "ST     2152\n",
              "GK     2025\n",
              "CB     1778\n",
              "CM     1394\n",
              "LB     1322\n",
              "RB     1291\n",
              "RM     1124\n",
              "LM     1095\n",
              "CAM     958\n",
              "CDM     948\n",
              "RCB     662\n",
              "LCB     648\n",
              "LCM     395\n",
              "RCM     391\n",
              "LW      381\n",
              "RW      370\n",
              "RDM     248\n",
              "LDM     243\n",
              "LS      207\n",
              "RS      203\n",
              "RWB      87\n",
              "LWB      78\n",
              "CF       74\n",
              "LAM      21\n",
              "RAM      21\n",
              "RF       16\n",
              "LF       15\n",
              "Name: Position, dtype: int64"
            ]
          },
          "metadata": {},
          "execution_count": 100
        }
      ]
    },
    {
      "cell_type": "code",
      "source": [
        "plt.figure(figsize=(12, 6))\n",
        "sns.barplot(x=position_counts.index, y=position_counts.values, palette='viridis')\n",
        "plt.title('Number of Players at Different Positions')\n",
        "plt.xlabel('Position')\n",
        "plt.xticks(rotation=45, ha='right')\n",
        "plt.show()\n"
      ],
      "metadata": {
        "colab": {
          "base_uri": "https://localhost:8080/",
          "height": 583
        },
        "id": "8co74LJJk9_t",
        "outputId": "f3cd735a-29fe-44a0-cd3a-cfac94e39e73"
      },
      "execution_count": 98,
      "outputs": [
        {
          "output_type": "display_data",
          "data": {
            "text/plain": [
              "<Figure size 1200x600 with 1 Axes>"
            ],
            "image/png": "[encoded data removed]"
          },
          "metadata": {}
        }
      ]
    },
    {
      "cell_type": "markdown",
      "source": [
        "**Age distribution in top countries**"
      ],
      "metadata": {
        "id": "kOSK-N4nl40s"
      }
    },
    {
      "cell_type": "code",
      "source": [
        "print(df[[\"Nationality\",\"Age\"]].head(10))"
      ],
      "metadata": {
        "colab": {
          "base_uri": "https://localhost:8080/"
        },
        "id": "LKfJ_2rgwewS",
        "outputId": "88f52de2-b911-47ae-d009-f68fdf681d87"
      },
      "execution_count": 123,
      "outputs": [
        {
          "output_type": "stream",
          "name": "stdout",
          "text": [
            "  Nationality  Age\n",
            "0   Argentina   31\n",
            "1    Portugal   33\n",
            "2      Brazil   26\n",
            "3       Spain   27\n",
            "4     Belgium   27\n",
            "5     Belgium   27\n",
            "6     Croatia   32\n",
            "7     Uruguay   31\n",
            "8       Spain   32\n",
            "9    Slovenia   25\n"
          ]
        }
      ]
    },
    {
      "cell_type": "code",
      "source": [
        "top_country=df[\"Nationality\"].value_counts().head(10)\n",
        "df_top_countries=df[df[\"Nationality\"].isin(top_country.index)]\n",
        "\n",
        "plt.figure(figsize=(10,10))\n",
        "sns.boxplot(x=\"Nationality\",y=\"Age\",data=df_top_countries,palette=\"Set1\")\n",
        "plt.xlabel(\"Nationality\")\n",
        "plt.title(\"Age Distribution In Top 10 Countries\")\n",
        "plt.show()"
      ],
      "metadata": {
        "colab": {
          "base_uri": "https://localhost:8080/",
          "height": 872
        },
        "id": "RtwCM0Gdqj2M",
        "outputId": "acf811f7-265e-4b17-be78-cdfd31ae05b7"
      },
      "execution_count": 115,
      "outputs": [
        {
          "output_type": "display_data",
          "data": {
            "text/plain": [
              "<Figure size 1000x1000 with 1 Axes>"
            ],
            "image/png": "[encoded data removed]"
          },
          "metadata": {}
        }
      ]
    },
    {
      "cell_type": "markdown",
      "source": [
        "**What is the distribution of overall score of players from top countries?**"
      ],
      "metadata": {
        "id": "qa5opPgKt61_"
      }
    },
    {
      "cell_type": "code",
      "source": [
        "print(df[[\"Nationality\",\"Overall\"]].head(10))"
      ],
      "metadata": {
        "colab": {
          "base_uri": "https://localhost:8080/"
        },
        "id": "qOtRQhETwSOF",
        "outputId": "ea3e06ff-51d8-4bfc-ecf2-eb71cfdd68d2"
      },
      "execution_count": 122,
      "outputs": [
        {
          "output_type": "stream",
          "name": "stdout",
          "text": [
            "  Nationality  Overall\n",
            "0   Argentina       94\n",
            "1    Portugal       94\n",
            "2      Brazil       92\n",
            "3       Spain       91\n",
            "4     Belgium       91\n",
            "5     Belgium       91\n",
            "6     Croatia       91\n",
            "7     Uruguay       91\n",
            "8       Spain       91\n",
            "9    Slovenia       90\n"
          ]
        }
      ]
    },
    {
      "cell_type": "code",
      "source": [
        "top_country=df[\"Nationality\"].value_counts().head(10)\n",
        "df_top_country=df[df[\"Nationality\"].isin(top_country.index)]\n",
        "\n",
        "plt.figure(figsize=(10,6))\n",
        "sns.boxplot(x=\"Nationality\",y=\"Overall\",data=df_top_countries,palette=\"Set2\")\n",
        "plt.xlabel(\"Nationality\")\n",
        "plt.title(\"Overall Score of Players from Top Countries\")\n",
        "plt.show()"
      ],
      "metadata": {
        "colab": {
          "base_uri": "https://localhost:8080/",
          "height": 564
        },
        "id": "489WH-xkr3xK",
        "outputId": "68d5f7c7-8910-4a9c-de5b-16bc2dcbfa94"
      },
      "execution_count": 119,
      "outputs": [
        {
          "output_type": "display_data",
          "data": {
            "text/plain": [
              "<Figure size 1000x600 with 1 Axes>"
            ],
            "image/png": "[encoded data removed]"
          },
          "metadata": {}
        }
      ]
    },
    {
      "cell_type": "code",
      "source": [],
      "metadata": {
        "id": "kmmUY929wGfq"
      },
      "execution_count": null,
      "outputs": []
    }
  ]
}