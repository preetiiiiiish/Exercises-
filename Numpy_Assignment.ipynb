{
  "nbformat": 4,
  "nbformat_minor": 0,
  "metadata": {
    "colab": {
      "provenance": []
    },
    "kernelspec": {
      "name": "python3",
      "display_name": "Python 3"
    },
    "language_info": {
      "name": "python"
    }
  },
  "cells": [
    {
      "cell_type": "code",
      "execution_count": 1,
      "metadata": {
        "colab": {
          "base_uri": "https://localhost:8080/"
        },
        "id": "Oa2JT3IpZIoM",
        "outputId": "ce001920-00d5-4b81-8b49-901fbcda180d"
      },
      "outputs": [
        {
          "output_type": "stream",
          "name": "stdout",
          "text": [
            "[1, 2, 3, 4]\n"
          ]
        }
      ],
      "source": [
        "#### 1). Create a tuple called data with two values, (1, 2) and (3, 4)\n",
        "value1=[1,2]\n",
        "value2=[3,4]\n",
        "tuple1=value1+value2\n",
        "print(tuple1)"
      ]
    },
    {
      "cell_type": "code",
      "source": [
        " #### 3). Create a copy of the number list using [:]\n",
        "list=[4,3,2,1]\n",
        "list2=list[:]\n",
        "print(list2,list)"
      ],
      "metadata": {
        "colab": {
          "base_uri": "https://localhost:8080/"
        },
        "id": "xIhsjBVld4Nt",
        "outputId": "7f9d6269-18bf-473a-a401-0bae56766b02"
      },
      "execution_count": 2,
      "outputs": [
        {
          "output_type": "stream",
          "name": "stdout",
          "text": [
            "[4, 3, 2, 1] [4, 3, 2, 1]\n"
          ]
        }
      ]
    },
    {
      "cell_type": "code",
      "source": [
        "list=[4,3,2,1]\n",
        "list.sort(reverse=True)"
      ],
      "metadata": {
        "id": "RC7_d-LMeF7u"
      },
      "execution_count": 3,
      "outputs": []
    },
    {
      "cell_type": "code",
      "source": [
        "list"
      ],
      "metadata": {
        "colab": {
          "base_uri": "https://localhost:8080/"
        },
        "id": "kuSR3VNyg6Wf",
        "outputId": "160a2133-4531-4605-b8a0-2259d1ffe3b3"
      },
      "execution_count": 4,
      "outputs": [
        {
          "output_type": "execute_result",
          "data": {
            "text/plain": [
              "[4, 3, 2, 1]"
            ]
          },
          "metadata": {},
          "execution_count": 4
        }
      ]
    },
    {
      "cell_type": "code",
      "source": [
        "#### 4). Sort the numbers list in numerical order\n",
        "list=[4,3,2,1]\n",
        "list.sort()"
      ],
      "metadata": {
        "id": "lFenWsxmhBNZ"
      },
      "execution_count": 5,
      "outputs": []
    },
    {
      "cell_type": "code",
      "source": [
        "list"
      ],
      "metadata": {
        "colab": {
          "base_uri": "https://localhost:8080/"
        },
        "id": "gURFOAUyhE3i",
        "outputId": "4a9e4c05-f13e-4b64-9da7-fd0e4caa6933"
      },
      "execution_count": 6,
      "outputs": [
        {
          "output_type": "execute_result",
          "data": {
            "text/plain": [
              "[1, 2, 3, 4]"
            ]
          },
          "metadata": {},
          "execution_count": 6
        }
      ]
    },
    {
      "cell_type": "code",
      "source": [
        "#### 5). Create a tuple \"cardinal_numbers\" with \"first\", \"second\" and \"third\"\n",
        "#### 6). Display the second object in the tuple\n",
        "\n",
        "cardinal_numbers=(\"fist\",\"second\",\"third\")\n",
        "print(cardinal_numbers[-2])"
      ],
      "metadata": {
        "colab": {
          "base_uri": "https://localhost:8080/"
        },
        "id": "wMov_rTEhMm2",
        "outputId": "9bb16893-3e83-43dc-fba5-a78d5855bae0"
      },
      "execution_count": 7,
      "outputs": [
        {
          "output_type": "stream",
          "name": "stdout",
          "text": [
            "second\n"
          ]
        }
      ]
    },
    {
      "cell_type": "code",
      "source": [
        "#### 7). Unpack the tuple into three strings and display them\n",
        "\n",
        "cardinal_numbers=(\"fist\",\"second\",\"third\")\n",
        "for ever_cardinal_number in cardinal_numbers :\n",
        "    print(ever_cardinal_number)"
      ],
      "metadata": {
        "colab": {
          "base_uri": "https://localhost:8080/"
        },
        "id": "r5TnvEuXhQLo",
        "outputId": "cca9e814-3921-47c4-c4d8-a24510b3d256"
      },
      "execution_count": 8,
      "outputs": [
        {
          "output_type": "stream",
          "name": "stdout",
          "text": [
            "fist\n",
            "second\n",
            "third\n"
          ]
        }
      ]
    },
    {
      "cell_type": "code",
      "source": [
        "#### 8). Create a tuple containing the letters of your name from a string\n",
        "\n",
        "my_name1=(\"pre\")\n",
        "my_name2=(\"eti\")\n",
        "my_name=(my_name1+my_name2)"
      ],
      "metadata": {
        "id": "0CAo-wIVhT0w"
      },
      "execution_count": 9,
      "outputs": []
    },
    {
      "cell_type": "code",
      "source": [
        "my_name"
      ],
      "metadata": {
        "colab": {
          "base_uri": "https://localhost:8080/",
          "height": 35
        },
        "id": "FrYsEQtZhWw9",
        "outputId": "75a3dc16-ef3b-4e33-bf9b-7e6903f4d21d"
      },
      "execution_count": 10,
      "outputs": [
        {
          "output_type": "execute_result",
          "data": {
            "text/plain": [
              "'preeti'"
            ],
            "application/vnd.google.colaboratory.intrinsic+json": {
              "type": "string"
            }
          },
          "metadata": {},
          "execution_count": 10
        }
      ]
    },
    {
      "cell_type": "code",
      "source": [
        "#### 9) Check whether or not x is in my_name\n",
        "\n",
        "print(\"x\" in my_name)"
      ],
      "metadata": {
        "colab": {
          "base_uri": "https://localhost:8080/"
        },
        "id": "2pTqz0erhZgp",
        "outputId": "ad647c7c-1130-47f5-cdff-070275979be4"
      },
      "execution_count": 11,
      "outputs": [
        {
          "output_type": "stream",
          "name": "stdout",
          "text": [
            "False\n"
          ]
        }
      ]
    },
    {
      "cell_type": "code",
      "source": [
        "#### 10). Check whether or not s is in my_name\n",
        "\n",
        "print(\"s\" in my_name)"
      ],
      "metadata": {
        "colab": {
          "base_uri": "https://localhost:8080/"
        },
        "id": "JzgD7_whhc3K",
        "outputId": "a87bcfb9-64b2-48ff-a889-4f7cf884e690"
      },
      "execution_count": 12,
      "outputs": [
        {
          "output_type": "stream",
          "name": "stdout",
          "text": [
            "False\n"
          ]
        }
      ]
    },
    {
      "cell_type": "code",
      "source": [],
      "metadata": {
        "id": "aDOzo_t1hgCG"
      },
      "execution_count": null,
      "outputs": []
    }
  ]
}